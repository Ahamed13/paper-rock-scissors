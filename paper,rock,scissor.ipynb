{
  "nbformat": 4,
  "nbformat_minor": 0,
  "metadata": {
    "colab": {
      "name": "paper,rock,scissor.ipynb",
      "provenance": [],
      "collapsed_sections": []
    },
    "kernelspec": {
      "name": "python3",
      "display_name": "Python 3"
    },
    "language_info": {
      "name": "python"
    },
    "accelerator": "GPU"
  },
  "cells": [
    {
      "cell_type": "code",
      "metadata": {
        "colab": {
          "base_uri": "https://localhost:8080/"
        },
        "id": "64Qsl7ghA9M8",
        "outputId": "e89461a4-7e6f-44cd-ba88-fe42bb0fd793"
      },
      "source": [
        "!wget --no-check-certificate \\\n",
        "    https://storage.googleapis.com/laurencemoroney-blog.appspot.com/rps.zip \\\n",
        "    -O /tmp/rps.zip\n",
        "  \n",
        "!wget --no-check-certificate \\\n",
        "    https://storage.googleapis.com/laurencemoroney-blog.appspot.com/rps-test-set.zip \\\n",
        "    -O /tmp/rps-test-set.zip"
      ],
      "execution_count": null,
      "outputs": [
        {
          "output_type": "stream",
          "text": [
            "--2021-05-13 01:24:00--  https://storage.googleapis.com/laurencemoroney-blog.appspot.com/rps.zip\n",
            "Resolving storage.googleapis.com (storage.googleapis.com)... 172.217.164.144, 142.250.81.208, 142.250.73.208, ...\n",
            "Connecting to storage.googleapis.com (storage.googleapis.com)|172.217.164.144|:443... connected.\n",
            "HTTP request sent, awaiting response... 200 OK\n",
            "Length: 200682221 (191M) [application/zip]\n",
            "Saving to: ‘/tmp/rps.zip’\n",
            "\n",
            "/tmp/rps.zip        100%[===================>] 191.38M   144MB/s    in 1.3s    \n",
            "\n",
            "2021-05-13 01:24:01 (144 MB/s) - ‘/tmp/rps.zip’ saved [200682221/200682221]\n",
            "\n",
            "--2021-05-13 01:24:01--  https://storage.googleapis.com/laurencemoroney-blog.appspot.com/rps-test-set.zip\n",
            "Resolving storage.googleapis.com (storage.googleapis.com)... 172.253.115.128, 172.253.122.128, 172.217.13.240, ...\n",
            "Connecting to storage.googleapis.com (storage.googleapis.com)|172.253.115.128|:443... connected.\n",
            "HTTP request sent, awaiting response... 200 OK\n",
            "Length: 29516758 (28M) [application/zip]\n",
            "Saving to: ‘/tmp/rps-test-set.zip’\n",
            "\n",
            "/tmp/rps-test-set.z 100%[===================>]  28.15M   160MB/s    in 0.2s    \n",
            "\n",
            "2021-05-13 01:24:02 (160 MB/s) - ‘/tmp/rps-test-set.zip’ saved [29516758/29516758]\n",
            "\n"
          ],
          "name": "stdout"
        }
      ]
    },
    {
      "cell_type": "code",
      "metadata": {
        "id": "IsbzdliLBXb5"
      },
      "source": [
        "import tensorflow as tf"
      ],
      "execution_count": null,
      "outputs": []
    },
    {
      "cell_type": "code",
      "metadata": {
        "colab": {
          "base_uri": "https://localhost:8080/"
        },
        "id": "B5pLm6xrBb9R",
        "outputId": "d7f2a0aa-f76b-4f8a-d149-36fcfcebd12b"
      },
      "source": [
        "import os\n",
        "import zipfile\n",
        "\n",
        "local_zip = '/tmp/rps.zip'\n",
        "zip_ref = zipfile.ZipFile(local_zip, 'r')\n",
        "zip_ref.extractall('/tmp/')\n",
        "zip_ref.close()\n",
        "\n",
        "local_zip = '/tmp/rps-test-set.zip'\n",
        "zip_ref = zipfile.ZipFile(local_zip, 'r')\n",
        "zip_ref.extractall('/tmp/')\n",
        "zip_ref.close()\n",
        "\n",
        "\n",
        "rock_dir = os.path.join('/tmp/rps/rock')\n",
        "paper_dir = os.path.join('/tmp/rps/paper')\n",
        "scissors_dir = os.path.join('/tmp/rps/scissors')\n",
        "\n",
        "print('total training rock images:', len(os.listdir(rock_dir)))\n",
        "print('total training paper images:', len(os.listdir(paper_dir)))\n",
        "print('total training scissors images:', len(os.listdir(scissors_dir)))\n",
        "\n",
        "rock_files = os.listdir(rock_dir)\n",
        "print(rock_files[:10])\n",
        "\n",
        "paper_files = os.listdir(paper_dir)\n",
        "print(paper_files[:10])\n",
        "\n",
        "scissors_files = os.listdir(scissors_dir)\n",
        "print(scissors_files[:10])"
      ],
      "execution_count": null,
      "outputs": [
        {
          "output_type": "stream",
          "text": [
            "total training rock images: 840\n",
            "total training paper images: 840\n",
            "total training scissors images: 840\n",
            "['rock01-012.png', 'rock01-050.png', 'rock07-k03-019.png', 'rock04-084.png', 'rock04-117.png', 'rock07-k03-071.png', 'rock02-004.png', 'rock02-027.png', 'rock05ck01-010.png', 'rock03-045.png']\n",
            "['paper06-001.png', 'paper06-096.png', 'paper02-058.png', 'paper05-018.png', 'paper01-058.png', 'paper02-067.png', 'paper03-105.png', 'paper04-065.png', 'paper05-080.png', 'paper06-064.png']\n",
            "['scissors03-085.png', 'testscissors02-115.png', 'testscissors02-001.png', 'scissors02-106.png', 'testscissors01-064.png', 'scissors02-014.png', 'testscissors03-106.png', 'scissors03-035.png', 'scissors04-034.png', 'testscissors03-063.png']\n"
          ],
          "name": "stdout"
        }
      ]
    },
    {
      "cell_type": "code",
      "metadata": {
        "id": "pJsIdyawByek"
      },
      "source": [
        "from tensorflow import keras\n",
        "from tensorflow.keras.preprocessing.image import ImageDataGenerator\n",
        "from tensorflow.keras.optimizers import RMSprop"
      ],
      "execution_count": null,
      "outputs": []
    },
    {
      "cell_type": "code",
      "metadata": {
        "id": "dmpwVKz_GoUc"
      },
      "source": [
        "train_dir = \"/tmp/rps\"\n",
        "validation_dir = \"/tmp/rps-test-set\""
      ],
      "execution_count": null,
      "outputs": []
    },
    {
      "cell_type": "code",
      "metadata": {
        "id": "rlvcozR5F2wY"
      },
      "source": [
        "train_data = ImageDataGenerator(rescale=1/255.0)\n",
        "validation_data = ImageDataGenerator(rescale=1/255.0)"
      ],
      "execution_count": null,
      "outputs": []
    },
    {
      "cell_type": "code",
      "metadata": {
        "colab": {
          "base_uri": "https://localhost:8080/"
        },
        "id": "44JO9osPIS5n",
        "outputId": "41a4664d-4634-422f-e4d5-d1b80418dd08"
      },
      "source": [
        "train_generator = train_data.flow_from_directory(train_dir,\n",
        "                                                 target_size = (150,150),\n",
        "                                                 batch_size = 126,\n",
        "                                                 class_mode = \"categorical\")"
      ],
      "execution_count": null,
      "outputs": [
        {
          "output_type": "stream",
          "text": [
            "Found 2520 images belonging to 3 classes.\n"
          ],
          "name": "stdout"
        }
      ]
    },
    {
      "cell_type": "code",
      "metadata": {
        "colab": {
          "base_uri": "https://localhost:8080/"
        },
        "id": "JUc8HShFIkx-",
        "outputId": "f2377809-bc5f-4df0-9e8d-5c5deed5193d"
      },
      "source": [
        "validation_gen = validation_data.flow_from_directory(validation_dir,\n",
        "                                                     target_size= (150,150),\n",
        "                                                     batch_size = 31,\n",
        "                                                     class_mode = 'categorical')"
      ],
      "execution_count": null,
      "outputs": [
        {
          "output_type": "stream",
          "text": [
            "Found 372 images belonging to 3 classes.\n"
          ],
          "name": "stdout"
        }
      ]
    },
    {
      "cell_type": "code",
      "metadata": {
        "colab": {
          "base_uri": "https://localhost:8080/"
        },
        "id": "nlzF7XluOO43",
        "outputId": "23fce8ff-ff16-4725-93fc-fb36a7a8a888"
      },
      "source": [
        "model = tf.keras.models.Sequential([\n",
        "                                    tf.keras.layers.Conv2D(128,(3,3), padding=\"same\", activation='relu', input_shape=(150,150,3)),\n",
        "                                    tf.keras.layers.MaxPool2D(2,2),\n",
        "                                    tf.keras.layers.Conv2D(128,(3,3), padding=\"same\", activation='relu'),\n",
        "                                    tf.keras.layers.MaxPool2D(2,2),\n",
        "                                    tf.keras.layers.Conv2D(64,(3,3), padding=\"same\", activation='relu'),\n",
        "                                    tf.keras.layers.MaxPool2D(2,2),\n",
        "                                    tf.keras.layers.Conv2D(64,(3,3), padding=\"same\", activation='relu'),\n",
        "                                    tf.keras.layers.MaxPool2D(2,2),\n",
        "                                    tf.keras.layers.Flatten(),\n",
        "                                    tf.keras.layers.Dense(256, activation='relu'),\n",
        "                                    tf.keras.layers.Dense(128,activation='relu'),\n",
        "                                    tf.keras.layers.Dense(64,activation='relu'),\n",
        "                                    tf.keras.layers.Dense(32,activation='relu'),\n",
        "                                    tf.keras.layers.Dense(3,activation='softmax')\n",
        "])\n",
        "model.summary()"
      ],
      "execution_count": null,
      "outputs": [
        {
          "output_type": "stream",
          "text": [
            "Model: \"sequential_3\"\n",
            "_________________________________________________________________\n",
            "Layer (type)                 Output Shape              Param #   \n",
            "=================================================================\n",
            "conv2d_12 (Conv2D)           (None, 150, 150, 128)     3584      \n",
            "_________________________________________________________________\n",
            "max_pooling2d_12 (MaxPooling (None, 75, 75, 128)       0         \n",
            "_________________________________________________________________\n",
            "conv2d_13 (Conv2D)           (None, 75, 75, 128)       147584    \n",
            "_________________________________________________________________\n",
            "max_pooling2d_13 (MaxPooling (None, 37, 37, 128)       0         \n",
            "_________________________________________________________________\n",
            "conv2d_14 (Conv2D)           (None, 37, 37, 64)        73792     \n",
            "_________________________________________________________________\n",
            "max_pooling2d_14 (MaxPooling (None, 18, 18, 64)        0         \n",
            "_________________________________________________________________\n",
            "conv2d_15 (Conv2D)           (None, 18, 18, 64)        36928     \n",
            "_________________________________________________________________\n",
            "max_pooling2d_15 (MaxPooling (None, 9, 9, 64)          0         \n",
            "_________________________________________________________________\n",
            "flatten_3 (Flatten)          (None, 5184)              0         \n",
            "_________________________________________________________________\n",
            "dense_15 (Dense)             (None, 256)               1327360   \n",
            "_________________________________________________________________\n",
            "dense_16 (Dense)             (None, 128)               32896     \n",
            "_________________________________________________________________\n",
            "dense_17 (Dense)             (None, 64)                8256      \n",
            "_________________________________________________________________\n",
            "dense_18 (Dense)             (None, 32)                2080      \n",
            "_________________________________________________________________\n",
            "dense_19 (Dense)             (None, 3)                 99        \n",
            "=================================================================\n",
            "Total params: 1,632,579\n",
            "Trainable params: 1,632,579\n",
            "Non-trainable params: 0\n",
            "_________________________________________________________________\n"
          ],
          "name": "stdout"
        }
      ]
    },
    {
      "cell_type": "code",
      "metadata": {
        "id": "ikKcgO3LKI9i"
      },
      "source": [
        "model.compile(loss=\"categorical_crossentropy\",optimizer='adam', metrics=[\"accuracy\"])"
      ],
      "execution_count": null,
      "outputs": []
    },
    {
      "cell_type": "code",
      "metadata": {
        "colab": {
          "base_uri": "https://localhost:8080/"
        },
        "id": "jxURyJH_JkAS",
        "outputId": "868f0f76-fc30-4ca0-9712-7539f35e93bf"
      },
      "source": [
        "iteration = model.fit(train_generator,\n",
        "                      steps_per_epoch = 20,\n",
        "                      epochs = 50,\n",
        "                      validation_data=validation_gen,\n",
        "                      validation_steps =12)"
      ],
      "execution_count": null,
      "outputs": [
        {
          "output_type": "stream",
          "text": [
            "Epoch 1/50\n",
            "20/20 [==============================] - 11s 505ms/step - loss: 1.1258 - accuracy: 0.3716 - val_loss: 1.0621 - val_accuracy: 0.3199\n",
            "Epoch 2/50\n",
            "20/20 [==============================] - 10s 492ms/step - loss: 0.8230 - accuracy: 0.6102 - val_loss: 0.5365 - val_accuracy: 0.7903\n",
            "Epoch 3/50\n",
            "20/20 [==============================] - 10s 495ms/step - loss: 0.1896 - accuracy: 0.9512 - val_loss: 0.2338 - val_accuracy: 0.9274\n",
            "Epoch 4/50\n",
            "20/20 [==============================] - 10s 491ms/step - loss: 0.0986 - accuracy: 0.9656 - val_loss: 0.4248 - val_accuracy: 0.8253\n",
            "Epoch 5/50\n",
            "20/20 [==============================] - 10s 492ms/step - loss: 0.0460 - accuracy: 0.9890 - val_loss: 0.3155 - val_accuracy: 0.8387\n",
            "Epoch 6/50\n",
            "20/20 [==============================] - 10s 494ms/step - loss: 0.0134 - accuracy: 0.9945 - val_loss: 0.3453 - val_accuracy: 0.8683\n",
            "Epoch 7/50\n",
            "20/20 [==============================] - 10s 492ms/step - loss: 0.0017 - accuracy: 1.0000 - val_loss: 0.3768 - val_accuracy: 0.8710\n",
            "Epoch 8/50\n",
            "20/20 [==============================] - 10s 492ms/step - loss: 5.1333e-04 - accuracy: 1.0000 - val_loss: 0.4630 - val_accuracy: 0.8602\n",
            "Epoch 9/50\n",
            "20/20 [==============================] - 10s 491ms/step - loss: 4.6629e-04 - accuracy: 1.0000 - val_loss: 0.3522 - val_accuracy: 0.9005\n",
            "Epoch 10/50\n",
            "20/20 [==============================] - 10s 489ms/step - loss: 2.9853e-04 - accuracy: 1.0000 - val_loss: 0.5032 - val_accuracy: 0.8602\n",
            "Epoch 11/50\n",
            "20/20 [==============================] - 10s 486ms/step - loss: 2.6581e-04 - accuracy: 1.0000 - val_loss: 0.3982 - val_accuracy: 0.8952\n",
            "Epoch 12/50\n",
            "20/20 [==============================] - 10s 490ms/step - loss: 2.0667e-04 - accuracy: 1.0000 - val_loss: 0.4479 - val_accuracy: 0.8656\n",
            "Epoch 13/50\n",
            "20/20 [==============================] - 10s 491ms/step - loss: 1.6374e-04 - accuracy: 1.0000 - val_loss: 0.5190 - val_accuracy: 0.8790\n",
            "Epoch 14/50\n",
            "20/20 [==============================] - 10s 487ms/step - loss: 1.0441e-04 - accuracy: 1.0000 - val_loss: 0.5142 - val_accuracy: 0.8683\n",
            "Epoch 15/50\n",
            "20/20 [==============================] - 10s 487ms/step - loss: 6.9252e-05 - accuracy: 1.0000 - val_loss: 0.5316 - val_accuracy: 0.8629\n",
            "Epoch 16/50\n",
            "20/20 [==============================] - 10s 489ms/step - loss: 6.7245e-05 - accuracy: 1.0000 - val_loss: 0.5938 - val_accuracy: 0.8763\n",
            "Epoch 17/50\n",
            "20/20 [==============================] - 10s 487ms/step - loss: 7.5725e-05 - accuracy: 1.0000 - val_loss: 0.5740 - val_accuracy: 0.8602\n",
            "Epoch 18/50\n",
            "20/20 [==============================] - 10s 483ms/step - loss: 7.2664e-05 - accuracy: 1.0000 - val_loss: 0.5865 - val_accuracy: 0.8602\n",
            "Epoch 19/50\n",
            "20/20 [==============================] - 10s 485ms/step - loss: 5.3546e-05 - accuracy: 1.0000 - val_loss: 0.5520 - val_accuracy: 0.8683\n",
            "Epoch 20/50\n",
            "20/20 [==============================] - 10s 487ms/step - loss: 3.5641e-05 - accuracy: 1.0000 - val_loss: 0.5731 - val_accuracy: 0.8629\n",
            "Epoch 21/50\n",
            "20/20 [==============================] - 10s 485ms/step - loss: 2.7137e-05 - accuracy: 1.0000 - val_loss: 0.5919 - val_accuracy: 0.8683\n",
            "Epoch 22/50\n",
            "20/20 [==============================] - 10s 488ms/step - loss: 2.2570e-05 - accuracy: 1.0000 - val_loss: 0.5929 - val_accuracy: 0.8683\n",
            "Epoch 23/50\n",
            "20/20 [==============================] - 10s 490ms/step - loss: 1.9622e-05 - accuracy: 1.0000 - val_loss: 0.6147 - val_accuracy: 0.8683\n",
            "Epoch 24/50\n",
            "20/20 [==============================] - 10s 484ms/step - loss: 2.1287e-05 - accuracy: 1.0000 - val_loss: 0.6150 - val_accuracy: 0.8683\n",
            "Epoch 25/50\n",
            "20/20 [==============================] - 10s 483ms/step - loss: 1.5616e-05 - accuracy: 1.0000 - val_loss: 0.6180 - val_accuracy: 0.8737\n",
            "Epoch 26/50\n",
            "20/20 [==============================] - 10s 486ms/step - loss: 1.4335e-05 - accuracy: 1.0000 - val_loss: 0.6206 - val_accuracy: 0.8763\n",
            "Epoch 27/50\n",
            "20/20 [==============================] - 10s 486ms/step - loss: 1.0370e-05 - accuracy: 1.0000 - val_loss: 0.6300 - val_accuracy: 0.8817\n",
            "Epoch 28/50\n",
            "20/20 [==============================] - 10s 484ms/step - loss: 9.7540e-06 - accuracy: 1.0000 - val_loss: 0.6321 - val_accuracy: 0.8871\n",
            "Epoch 29/50\n",
            "20/20 [==============================] - 10s 488ms/step - loss: 8.2439e-06 - accuracy: 1.0000 - val_loss: 0.6518 - val_accuracy: 0.8871\n",
            "Epoch 30/50\n",
            "20/20 [==============================] - 10s 489ms/step - loss: 6.6898e-06 - accuracy: 1.0000 - val_loss: 0.6478 - val_accuracy: 0.8898\n",
            "Epoch 31/50\n",
            "20/20 [==============================] - 10s 486ms/step - loss: 7.0182e-06 - accuracy: 1.0000 - val_loss: 0.6610 - val_accuracy: 0.8898\n",
            "Epoch 32/50\n",
            "20/20 [==============================] - 10s 486ms/step - loss: 6.5613e-06 - accuracy: 1.0000 - val_loss: 0.6685 - val_accuracy: 0.8925\n",
            "Epoch 33/50\n",
            "20/20 [==============================] - 10s 488ms/step - loss: 5.7054e-06 - accuracy: 1.0000 - val_loss: 0.6613 - val_accuracy: 0.8925\n",
            "Epoch 34/50\n",
            "20/20 [==============================] - 10s 486ms/step - loss: 4.9423e-06 - accuracy: 1.0000 - val_loss: 0.6659 - val_accuracy: 0.8978\n",
            "Epoch 35/50\n",
            "20/20 [==============================] - 10s 482ms/step - loss: 4.0422e-06 - accuracy: 1.0000 - val_loss: 0.6807 - val_accuracy: 0.8978\n",
            "Epoch 36/50\n",
            "20/20 [==============================] - 10s 490ms/step - loss: 5.5350e-06 - accuracy: 1.0000 - val_loss: 0.6874 - val_accuracy: 0.8952\n",
            "Epoch 37/50\n",
            "20/20 [==============================] - 10s 483ms/step - loss: 4.3421e-06 - accuracy: 1.0000 - val_loss: 0.6912 - val_accuracy: 0.8952\n",
            "Epoch 38/50\n",
            "20/20 [==============================] - 10s 483ms/step - loss: 3.8115e-06 - accuracy: 1.0000 - val_loss: 0.6942 - val_accuracy: 0.8952\n",
            "Epoch 39/50\n",
            "20/20 [==============================] - 10s 487ms/step - loss: 2.7100e-06 - accuracy: 1.0000 - val_loss: 0.6930 - val_accuracy: 0.8978\n",
            "Epoch 40/50\n",
            "20/20 [==============================] - 10s 483ms/step - loss: 3.4180e-06 - accuracy: 1.0000 - val_loss: 0.7019 - val_accuracy: 0.8978\n",
            "Epoch 41/50\n",
            "20/20 [==============================] - 10s 484ms/step - loss: 2.8804e-06 - accuracy: 1.0000 - val_loss: 0.7029 - val_accuracy: 0.8978\n",
            "Epoch 42/50\n",
            "20/20 [==============================] - 10s 480ms/step - loss: 2.2518e-06 - accuracy: 1.0000 - val_loss: 0.7073 - val_accuracy: 0.8978\n",
            "Epoch 43/50\n",
            "20/20 [==============================] - 10s 482ms/step - loss: 2.5459e-06 - accuracy: 1.0000 - val_loss: 0.7142 - val_accuracy: 0.8978\n",
            "Epoch 44/50\n",
            "20/20 [==============================] - 10s 493ms/step - loss: 2.0138e-06 - accuracy: 1.0000 - val_loss: 0.7158 - val_accuracy: 0.8978\n",
            "Epoch 45/50\n",
            "20/20 [==============================] - 10s 490ms/step - loss: 2.2448e-06 - accuracy: 1.0000 - val_loss: 0.7270 - val_accuracy: 0.8978\n",
            "Epoch 46/50\n",
            "20/20 [==============================] - 10s 493ms/step - loss: 1.9464e-06 - accuracy: 1.0000 - val_loss: 0.7158 - val_accuracy: 0.8978\n",
            "Epoch 47/50\n",
            "20/20 [==============================] - 10s 495ms/step - loss: 1.6979e-06 - accuracy: 1.0000 - val_loss: 0.7268 - val_accuracy: 0.8978\n",
            "Epoch 48/50\n",
            "20/20 [==============================] - 10s 491ms/step - loss: 1.5268e-06 - accuracy: 1.0000 - val_loss: 0.7251 - val_accuracy: 0.8978\n",
            "Epoch 49/50\n",
            "20/20 [==============================] - 10s 488ms/step - loss: 1.6500e-06 - accuracy: 1.0000 - val_loss: 0.7414 - val_accuracy: 0.8978\n",
            "Epoch 50/50\n",
            "20/20 [==============================] - 10s 495ms/step - loss: 1.4841e-06 - accuracy: 1.0000 - val_loss: 0.7437 - val_accuracy: 0.8978\n"
          ],
          "name": "stdout"
        }
      ]
    },
    {
      "cell_type": "code",
      "metadata": {
        "colab": {
          "base_uri": "https://localhost:8080/",
          "height": 281
        },
        "id": "4Ow0V2PmTUqO",
        "outputId": "c911f62b-48f3-43bb-d68a-a9f8fcd8468c"
      },
      "source": [
        "import matplotlib.pyplot as plt\n",
        "train_acc = iteration.history[\"accuracy\"]\n",
        "validation_acc = iteration.history['val_accuracy']\n",
        "epochs = range(len(train_acc))\n",
        "plt.plot(epochs, train_acc, \"r\", label = \"Train_accuracy\")\n",
        "plt.plot(epochs, validation_acc, \"b\", label = \"validation_accuracy\")\n",
        "plt.title(\"Train and validation accuracy\")\n",
        "plt.legend(loc=0)\n",
        "plt.show()"
      ],
      "execution_count": null,
      "outputs": [
        {
          "output_type": "display_data",
          "data": {
            "image/png": "[encoded data removed]",
            "text/plain": [
              "<Figure size 432x288 with 1 Axes>"
            ]
          },
          "metadata": {
            "tags": [],
            "needs_background": "light"
          }
        }
      ]
    },
    {
      "cell_type": "markdown",
      "metadata": {
        "id": "bvuDeCUJXD9C"
      },
      "source": [
        "The above model is overfittig the training data"
      ]
    },
    {
      "cell_type": "markdown",
      "metadata": {
        "id": "v6hR7fuRXTX_"
      },
      "source": [
        "**Now lets use Dropout method to avoid the overfitting the training data**"
      ]
    },
    {
      "cell_type": "code",
      "metadata": {
        "colab": {
          "base_uri": "https://localhost:8080/"
        },
        "id": "Nm9JG8mkXhyu",
        "outputId": "453036c3-6fd4-48b3-f845-c533fb3e2ef7"
      },
      "source": [
        "model = tf.keras.models.Sequential([\n",
        "                                    tf.keras.layers.Conv2D(128,(3,3), padding=\"same\", activation='relu', input_shape=(150,150,3)),\n",
        "                                    tf.keras.layers.MaxPool2D(2,2),\n",
        "                                    tf.keras.layers.Conv2D(128,(3,3), padding=\"same\", activation='relu'),\n",
        "                                    tf.keras.layers.MaxPool2D(2,2),\n",
        "                                    tf.keras.layers.Conv2D(64,(3,3), padding=\"same\", activation='relu'),\n",
        "                                    tf.keras.layers.MaxPool2D(2,2),\n",
        "                                    tf.keras.layers.Conv2D(64,(3,3), padding=\"same\", activation='relu'),\n",
        "                                    tf.keras.layers.MaxPool2D(2,2),\n",
        "                                    tf.keras.layers.Flatten(),\n",
        "                                    tf.keras.layers.Dropout(0.8),\n",
        "                                    tf.keras.layers.Dense(256, activation='relu'),\n",
        "                                    tf.keras.layers.Dense(128,activation='relu'),\n",
        "                                    tf.keras.layers.Dense(64,activation='relu'),\n",
        "                                    tf.keras.layers.Dense(32,activation='relu'),\n",
        "                                    tf.keras.layers.Dense(3,activation='softmax')\n",
        "])\n",
        "model.summary()"
      ],
      "execution_count": null,
      "outputs": [
        {
          "output_type": "stream",
          "text": [
            "Model: \"sequential_5\"\n",
            "_________________________________________________________________\n",
            "Layer (type)                 Output Shape              Param #   \n",
            "=================================================================\n",
            "conv2d_20 (Conv2D)           (None, 150, 150, 128)     3584      \n",
            "_________________________________________________________________\n",
            "max_pooling2d_20 (MaxPooling (None, 75, 75, 128)       0         \n",
            "_________________________________________________________________\n",
            "conv2d_21 (Conv2D)           (None, 75, 75, 128)       147584    \n",
            "_________________________________________________________________\n",
            "max_pooling2d_21 (MaxPooling (None, 37, 37, 128)       0         \n",
            "_________________________________________________________________\n",
            "conv2d_22 (Conv2D)           (None, 37, 37, 64)        73792     \n",
            "_________________________________________________________________\n",
            "max_pooling2d_22 (MaxPooling (None, 18, 18, 64)        0         \n",
            "_________________________________________________________________\n",
            "conv2d_23 (Conv2D)           (None, 18, 18, 64)        36928     \n",
            "_________________________________________________________________\n",
            "max_pooling2d_23 (MaxPooling (None, 9, 9, 64)          0         \n",
            "_________________________________________________________________\n",
            "flatten_5 (Flatten)          (None, 5184)              0         \n",
            "_________________________________________________________________\n",
            "dropout_1 (Dropout)          (None, 5184)              0         \n",
            "_________________________________________________________________\n",
            "dense_25 (Dense)             (None, 256)               1327360   \n",
            "_________________________________________________________________\n",
            "dense_26 (Dense)             (None, 128)               32896     \n",
            "_________________________________________________________________\n",
            "dense_27 (Dense)             (None, 64)                8256      \n",
            "_________________________________________________________________\n",
            "dense_28 (Dense)             (None, 32)                2080      \n",
            "_________________________________________________________________\n",
            "dense_29 (Dense)             (None, 3)                 99        \n",
            "=================================================================\n",
            "Total params: 1,632,579\n",
            "Trainable params: 1,632,579\n",
            "Non-trainable params: 0\n",
            "_________________________________________________________________\n"
          ],
          "name": "stdout"
        }
      ]
    },
    {
      "cell_type": "code",
      "metadata": {
        "id": "jTd4j1N7YDFo"
      },
      "source": [
        "model.compile(loss=\"categorical_crossentropy\",optimizer='adam', metrics=[\"accuracy\"])"
      ],
      "execution_count": null,
      "outputs": []
    },
    {
      "cell_type": "code",
      "metadata": {
        "colab": {
          "base_uri": "https://localhost:8080/"
        },
        "id": "JpUqjegoYEGb",
        "outputId": "81c3eb1a-24f7-4ed2-b8e1-f1ec54ec1e50"
      },
      "source": [
        "geo = model.fit(train_generator,\n",
        "                      steps_per_epoch = 20,\n",
        "                      epochs = 50,\n",
        "                      validation_data=validation_gen,\n",
        "                      validation_steps =12)"
      ],
      "execution_count": null,
      "outputs": [
        {
          "output_type": "stream",
          "text": [
            "Epoch 1/50\n",
            "20/20 [==============================] - 11s 497ms/step - loss: 1.0964 - accuracy: 0.3597 - val_loss: 1.0743 - val_accuracy: 0.3790\n",
            "Epoch 2/50\n",
            "20/20 [==============================] - 10s 484ms/step - loss: 0.8820 - accuracy: 0.5721 - val_loss: 0.7151 - val_accuracy: 0.7231\n",
            "Epoch 3/50\n",
            "20/20 [==============================] - 10s 489ms/step - loss: 0.3400 - accuracy: 0.8688 - val_loss: 0.3960 - val_accuracy: 0.8387\n",
            "Epoch 4/50\n",
            "20/20 [==============================] - 10s 487ms/step - loss: 0.1098 - accuracy: 0.9606 - val_loss: 0.1428 - val_accuracy: 0.9570\n",
            "Epoch 5/50\n",
            "20/20 [==============================] - 10s 486ms/step - loss: 0.0437 - accuracy: 0.9858 - val_loss: 0.1185 - val_accuracy: 0.9462\n",
            "Epoch 6/50\n",
            "20/20 [==============================] - 10s 484ms/step - loss: 0.0267 - accuracy: 0.9891 - val_loss: 0.0732 - val_accuracy: 0.9758\n",
            "Epoch 7/50\n",
            "20/20 [==============================] - 10s 482ms/step - loss: 0.0177 - accuracy: 0.9923 - val_loss: 0.1837 - val_accuracy: 0.9409\n",
            "Epoch 8/50\n",
            "20/20 [==============================] - 10s 482ms/step - loss: 0.0227 - accuracy: 0.9930 - val_loss: 0.1307 - val_accuracy: 0.9597\n",
            "Epoch 9/50\n",
            "20/20 [==============================] - 10s 482ms/step - loss: 0.0147 - accuracy: 0.9960 - val_loss: 0.1029 - val_accuracy: 0.9624\n",
            "Epoch 10/50\n",
            "20/20 [==============================] - 10s 485ms/step - loss: 0.0045 - accuracy: 0.9985 - val_loss: 0.1242 - val_accuracy: 0.9624\n",
            "Epoch 11/50\n",
            "20/20 [==============================] - 10s 484ms/step - loss: 0.0018 - accuracy: 1.0000 - val_loss: 0.1623 - val_accuracy: 0.9570\n",
            "Epoch 12/50\n",
            "20/20 [==============================] - 10s 489ms/step - loss: 0.0045 - accuracy: 0.9988 - val_loss: 0.1440 - val_accuracy: 0.9489\n",
            "Epoch 13/50\n",
            "20/20 [==============================] - 10s 483ms/step - loss: 0.0182 - accuracy: 0.9954 - val_loss: 0.0862 - val_accuracy: 0.9704\n",
            "Epoch 14/50\n",
            "20/20 [==============================] - 10s 485ms/step - loss: 0.0030 - accuracy: 0.9984 - val_loss: 0.2431 - val_accuracy: 0.9167\n",
            "Epoch 15/50\n",
            "20/20 [==============================] - 10s 479ms/step - loss: 0.0170 - accuracy: 0.9949 - val_loss: 0.1159 - val_accuracy: 0.9597\n",
            "Epoch 16/50\n",
            "20/20 [==============================] - 10s 482ms/step - loss: 0.0026 - accuracy: 1.0000 - val_loss: 0.1392 - val_accuracy: 0.9435\n",
            "Epoch 17/50\n",
            "20/20 [==============================] - 10s 485ms/step - loss: 0.0018 - accuracy: 0.9994 - val_loss: 0.1065 - val_accuracy: 0.9651\n",
            "Epoch 18/50\n",
            "20/20 [==============================] - 10s 481ms/step - loss: 0.0014 - accuracy: 0.9994 - val_loss: 0.1338 - val_accuracy: 0.9677\n",
            "Epoch 19/50\n",
            "20/20 [==============================] - 10s 481ms/step - loss: 0.0074 - accuracy: 0.9981 - val_loss: 0.3464 - val_accuracy: 0.9059\n",
            "Epoch 20/50\n",
            "20/20 [==============================] - 10s 485ms/step - loss: 0.0605 - accuracy: 0.9899 - val_loss: 0.1591 - val_accuracy: 0.9328\n",
            "Epoch 21/50\n",
            "20/20 [==============================] - 10s 486ms/step - loss: 0.0121 - accuracy: 0.9960 - val_loss: 0.1533 - val_accuracy: 0.9409\n",
            "Epoch 22/50\n",
            "20/20 [==============================] - 10s 483ms/step - loss: 0.0088 - accuracy: 0.9963 - val_loss: 0.0611 - val_accuracy: 0.9704\n",
            "Epoch 23/50\n",
            "20/20 [==============================] - 10s 482ms/step - loss: 0.0023 - accuracy: 0.9995 - val_loss: 0.1123 - val_accuracy: 0.9543\n",
            "Epoch 24/50\n",
            "20/20 [==============================] - 10s 483ms/step - loss: 0.0010 - accuracy: 0.9996 - val_loss: 0.0967 - val_accuracy: 0.9704\n",
            "Epoch 25/50\n",
            "20/20 [==============================] - 10s 482ms/step - loss: 0.0021 - accuracy: 0.9989 - val_loss: 0.1023 - val_accuracy: 0.9624\n",
            "Epoch 26/50\n",
            "20/20 [==============================] - 10s 481ms/step - loss: 4.4966e-04 - accuracy: 1.0000 - val_loss: 0.0992 - val_accuracy: 0.9651\n",
            "Epoch 27/50\n",
            "20/20 [==============================] - 10s 483ms/step - loss: 2.7791e-04 - accuracy: 1.0000 - val_loss: 0.1493 - val_accuracy: 0.9543\n",
            "Epoch 28/50\n",
            "20/20 [==============================] - 10s 487ms/step - loss: 0.0109 - accuracy: 0.9951 - val_loss: 0.1740 - val_accuracy: 0.9435\n",
            "Epoch 29/50\n",
            "20/20 [==============================] - 10s 482ms/step - loss: 0.0096 - accuracy: 0.9989 - val_loss: 0.1267 - val_accuracy: 0.9570\n",
            "Epoch 30/50\n",
            "20/20 [==============================] - 10s 479ms/step - loss: 0.0027 - accuracy: 0.9986 - val_loss: 0.1145 - val_accuracy: 0.9435\n",
            "Epoch 31/50\n",
            "20/20 [==============================] - 10s 481ms/step - loss: 0.0030 - accuracy: 0.9985 - val_loss: 0.1285 - val_accuracy: 0.9462\n",
            "Epoch 32/50\n",
            "20/20 [==============================] - 10s 480ms/step - loss: 0.0131 - accuracy: 0.9975 - val_loss: 0.1980 - val_accuracy: 0.9086\n",
            "Epoch 33/50\n",
            "20/20 [==============================] - 10s 478ms/step - loss: 0.0059 - accuracy: 0.9967 - val_loss: 0.0301 - val_accuracy: 0.9946\n",
            "Epoch 34/50\n",
            "20/20 [==============================] - 10s 482ms/step - loss: 5.9754e-04 - accuracy: 1.0000 - val_loss: 0.0305 - val_accuracy: 0.9892\n",
            "Epoch 35/50\n",
            "20/20 [==============================] - 10s 479ms/step - loss: 2.6102e-04 - accuracy: 1.0000 - val_loss: 0.0557 - val_accuracy: 0.9677\n",
            "Epoch 36/50\n",
            "20/20 [==============================] - 10s 487ms/step - loss: 0.0050 - accuracy: 0.9989 - val_loss: 0.0424 - val_accuracy: 0.9812\n",
            "Epoch 37/50\n",
            "20/20 [==============================] - 10s 486ms/step - loss: 0.0052 - accuracy: 0.9993 - val_loss: 0.0599 - val_accuracy: 0.9839\n",
            "Epoch 38/50\n",
            "20/20 [==============================] - 10s 479ms/step - loss: 2.7288e-04 - accuracy: 1.0000 - val_loss: 0.0329 - val_accuracy: 0.9812\n",
            "Epoch 39/50\n",
            "20/20 [==============================] - 10s 479ms/step - loss: 0.0059 - accuracy: 0.9981 - val_loss: 0.0979 - val_accuracy: 0.9704\n",
            "Epoch 40/50\n",
            "20/20 [==============================] - 10s 484ms/step - loss: 0.0068 - accuracy: 0.9990 - val_loss: 0.0638 - val_accuracy: 0.9758\n",
            "Epoch 41/50\n",
            "20/20 [==============================] - 10s 482ms/step - loss: 0.0012 - accuracy: 0.9999 - val_loss: 0.0523 - val_accuracy: 0.9731\n",
            "Epoch 42/50\n",
            "20/20 [==============================] - 10s 479ms/step - loss: 5.4309e-04 - accuracy: 1.0000 - val_loss: 0.0585 - val_accuracy: 0.9758\n",
            "Epoch 43/50\n",
            "20/20 [==============================] - 10s 480ms/step - loss: 0.0015 - accuracy: 0.9996 - val_loss: 0.1025 - val_accuracy: 0.9677\n",
            "Epoch 44/50\n",
            "20/20 [==============================] - 10s 485ms/step - loss: 0.0017 - accuracy: 0.9997 - val_loss: 0.0288 - val_accuracy: 0.9946\n",
            "Epoch 45/50\n",
            "20/20 [==============================] - 10s 484ms/step - loss: 6.6160e-04 - accuracy: 0.9998 - val_loss: 0.0565 - val_accuracy: 0.9731\n",
            "Epoch 46/50\n",
            "20/20 [==============================] - 10s 481ms/step - loss: 8.2798e-04 - accuracy: 1.0000 - val_loss: 0.0355 - val_accuracy: 0.9866\n",
            "Epoch 47/50\n",
            "20/20 [==============================] - 10s 479ms/step - loss: 0.0016 - accuracy: 0.9995 - val_loss: 0.0933 - val_accuracy: 0.9597\n",
            "Epoch 48/50\n",
            "20/20 [==============================] - 10s 481ms/step - loss: 0.0011 - accuracy: 0.9998 - val_loss: 0.1152 - val_accuracy: 0.9677\n",
            "Epoch 49/50\n",
            "20/20 [==============================] - 10s 479ms/step - loss: 0.0032 - accuracy: 0.9998 - val_loss: 0.1461 - val_accuracy: 0.9220\n",
            "Epoch 50/50\n",
            "20/20 [==============================] - 10s 478ms/step - loss: 0.0038 - accuracy: 0.9984 - val_loss: 0.1769 - val_accuracy: 0.9435\n"
          ],
          "name": "stdout"
        }
      ]
    },
    {
      "cell_type": "code",
      "metadata": {
        "colab": {
          "base_uri": "https://localhost:8080/",
          "height": 281
        },
        "id": "a9-PV27IYLEe",
        "outputId": "72b626b1-2546-4258-a1ef-9948b153a20d"
      },
      "source": [
        "import matplotlib.pyplot as plt\n",
        "train_acc = geo.history[\"accuracy\"]\n",
        "validation_acc = geo.history['val_accuracy']\n",
        "epochs = range(len(train_acc))\n",
        "plt.plot(epochs, train_acc, \"r\", label = \"Train_accuracy\")\n",
        "plt.plot(epochs, validation_acc, \"b\", label = \"validation_accuracy\")\n",
        "plt.title(\"Train and validation accuracy with Dropout\")\n",
        "plt.legend(loc=0)\n",
        "plt.show()"
      ],
      "execution_count": null,
      "outputs": [
        {
          "output_type": "display_data",
          "data": {
            "image/png": "[encoded data removed]",
            "text/plain": [
              "<Figure size 432x288 with 1 Axes>"
            ]
          },
          "metadata": {
            "tags": [],
            "needs_background": "light"
          }
        }
      ]
    },
    {
      "cell_type": "code",
      "metadata": {
        "colab": {
          "resources": {
            "http://localhost:8080/nbextensions/google.colab/files.js": {
              "data": "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",
              "ok": true,
              "headers": [
                [
                  "content-type",
                  "application/javascript"
                ]
              ],
              "status": 200,
              "status_text": ""
            }
          },
          "base_uri": "https://localhost:8080/",
          "height": 1000
        },
        "id": "izH2X-gMcwfB",
        "outputId": "c588f878-9116-4078-e718-b8ff9b384936"
      },
      "source": [
        "import numpy as np\n",
        "from google.colab import files\n",
        "from keras.preprocessing import image\n",
        "\n",
        "uploaded = files.upload()\n",
        "\n",
        "for fn in uploaded.keys():\n",
        " \n",
        "  # predicting images\n",
        "  path = fn\n",
        "  img = image.load_img(path, target_size=(150, 150))\n",
        "  x = image.img_to_array(img)\n",
        "  x = np.expand_dims(x, axis=0)\n",
        "\n",
        "  images = np.vstack([x])\n",
        "  classes = model.predict(images, batch_size=10)\n",
        "  print(fn)\n",
        "  print(classes)"
      ],
      "execution_count": null,
      "outputs": [
        {
          "output_type": "display_data",
          "data": {
            "text/html": [
              "\n",
              "     <input type=\"file\" id=\"files-4bc05c9a-1e25-478a-a7b2-58c46f1ea986\" name=\"files[]\" multiple disabled\n",
              "        style=\"border:none\" />\n",
              "     <output id=\"result-4bc05c9a-1e25-478a-a7b2-58c46f1ea986\">\n",
              "      Upload widget is only available when the cell has been executed in the\n",
              "      current browser session. Please rerun this cell to enable.\n",
              "      </output>\n",
              "      <script src=\"/nbextensions/google.colab/files.js\"></script> "
            ],
            "text/plain": [
              "<IPython.core.display.HTML object>"
            ]
          },
          "metadata": {
            "tags": []
          }
        },
        {
          "output_type": "stream",
          "text": [
            "Saving paper1.png to paper1 (1).png\n",
            "Saving paper2.png to paper2.png\n",
            "Saving paper3.png to paper3 (1).png\n",
            "Saving paper4.png to paper4.png\n",
            "Saving paper5.png to paper5 (1).png\n",
            "Saving paper6.png to paper6.png\n",
            "Saving paper7.png to paper7 (1).png\n",
            "Saving paper8.png to paper8.png\n",
            "Saving paper9.png to paper9.png\n",
            "Saving paper-hires1.png to paper-hires1.png\n",
            "Saving paper-hires2.png to paper-hires2.png\n",
            "Saving rock1.png to rock1 (1).png\n",
            "Saving rock2.png to rock2 (1).png\n",
            "Saving rock3.png to rock3.png\n",
            "Saving rock4.png to rock4.png\n",
            "Saving rock5.png to rock5 (1).png\n",
            "Saving rock6.png to rock6 (1).png\n",
            "Saving rock7.png to rock7.png\n",
            "Saving rock8.png to rock8 (1).png\n",
            "Saving rock9.png to rock9.png\n",
            "Saving rock-hires1.png to rock-hires1.png\n",
            "Saving rock-hires2.png to rock-hires2.png\n",
            "Saving scissors1.png to scissors1.png\n",
            "Saving scissors2.png to scissors2 (1).png\n",
            "Saving scissors3.png to scissors3 (1).png\n",
            "Saving scissors4.png to scissors4 (1).png\n",
            "Saving scissors5.png to scissors5 (1).png\n",
            "Saving scissors6.png to scissors6.png\n",
            "Saving scissors7.png to scissors7.png\n",
            "Saving scissors8.png to scissors8.png\n",
            "Saving scissors9.png to scissors9 (1).png\n",
            "Saving scissors-hires1.png to scissors-hires1 (1).png\n",
            "Saving scissors-hires2.png to scissors-hires2 (1).png\n",
            "paper1.png\n",
            "[[1. 0. 0.]]\n",
            "paper2.png\n",
            "[[1. 0. 0.]]\n",
            "paper3.png\n",
            "[[1.0295106e-37 0.0000000e+00 1.0000000e+00]]\n",
            "paper4.png\n",
            "[[1. 0. 0.]]\n",
            "paper5.png\n",
            "[[0. 0. 1.]]\n",
            "paper6.png\n",
            "[[1. 0. 0.]]\n",
            "paper7.png\n",
            "[[1. 0. 0.]]\n",
            "paper8.png\n",
            "[[1. 0. 0.]]\n",
            "paper9.png\n",
            "[[1. 0. 0.]]\n",
            "paper-hires1.png\n",
            "[[0. 0. 1.]]\n",
            "paper-hires2.png\n",
            "[[1. 0. 0.]]\n",
            "rock1.png\n",
            "[[0. 1. 0.]]\n",
            "rock2.png\n",
            "[[0. 1. 0.]]\n",
            "rock3.png\n",
            "[[0. 1. 0.]]\n",
            "rock4.png\n",
            "[[0. 1. 0.]]\n",
            "rock5.png\n",
            "[[0. 1. 0.]]\n",
            "rock6.png\n",
            "[[0. 1. 0.]]\n",
            "rock7.png\n",
            "[[0. 1. 0.]]\n",
            "rock8.png\n",
            "[[0. 1. 0.]]\n",
            "rock9.png\n",
            "[[0. 1. 0.]]\n",
            "rock-hires1.png\n",
            "[[0. 1. 0.]]\n",
            "rock-hires2.png\n",
            "[[0. 1. 0.]]\n",
            "scissors1.png\n",
            "[[0. 0. 1.]]\n",
            "scissors2.png\n",
            "[[0. 0. 1.]]\n",
            "scissors3.png\n",
            "[[0. 0. 1.]]\n",
            "scissors4.png\n",
            "[[0. 0. 1.]]\n",
            "scissors5.png\n",
            "[[0. 0. 1.]]\n",
            "scissors6.png\n",
            "[[0. 0. 1.]]\n",
            "scissors7.png\n",
            "[[0. 0. 1.]]\n",
            "scissors8.png\n",
            "[[0. 0. 1.]]\n",
            "scissors9.png\n",
            "[[0. 0. 1.]]\n",
            "scissors-hires1.png\n",
            "[[0. 0. 1.]]\n",
            "scissors-hires2.png\n",
            "[[0. 0. 1.]]\n"
          ],
          "name": "stdout"
        }
      ]
    }
  ]
}